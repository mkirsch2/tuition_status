{
 "cells": [
  {
   "cell_type": "code",
<<<<<<< HEAD
   "execution_count": 3,
=======
   "execution_count": 1,
>>>>>>> 4ebf13fe14fc4250577c2dfff76e95595ef488a2
   "id": "e3139f53",
   "metadata": {},
   "outputs": [],
   "source": [
    "# Import dependencies.\n",
    "import pandas as pd\n",
    "from pathlib import Path\n",
    "import matplotlib.pyplot as plt\n",
    "from sklearn.linear_model import LogisticRegression\n",
    "from sklearn.model_selection import train_test_split\n",
    "from sklearn.datasets import make_classification\n",
    "from sklearn.metrics import accuracy_score"
   ]
  },
  {
   "cell_type": "code",
<<<<<<< HEAD
   "execution_count": 4,
=======
   "execution_count": 2,
>>>>>>> 4ebf13fe14fc4250577c2dfff76e95595ef488a2
   "id": "658cc7e0",
   "metadata": {},
   "outputs": [],
   "source": [
    "# Read in CSV file.\n",
    "df = pd.read_csv(\"cleaned_data.csv\")"
   ]
  },
  {
   "cell_type": "code",
<<<<<<< HEAD
   "execution_count": 5,
   "id": "9ce560c1",
=======
   "execution_count": 3,
   "id": "c543041b",
>>>>>>> 4ebf13fe14fc4250577c2dfff76e95595ef488a2
   "metadata": {},
   "outputs": [
    {
     "data": {
      "text/plain": [
       "Unnamed: 0                 int64\n",
       "id                       float64\n",
       "program                    int64\n",
       "grad_date                 object\n",
       "hs_ged                     int64\n",
       "hs_ged_grad_date          object\n",
       "previous_college           int64\n",
       "ethnic_description         int64\n",
       "gender                     int64\n",
       "gpa                      float64\n",
       "hours_attended           float64\n",
       "hours_scheduled          float64\n",
       "attendance_percentage    float64\n",
       "date_of_birth             object\n",
       "default_status             int64\n",
       "dtype: object"
      ]
     },
<<<<<<< HEAD
     "execution_count": 5,
=======
     "execution_count": 3,
>>>>>>> 4ebf13fe14fc4250577c2dfff76e95595ef488a2
     "metadata": {},
     "output_type": "execute_result"
    }
   ],
   "source": [
    "# Re-reviewed data types. Changes made to data types during EDA are not reflected here.\n",
    "df.dtypes"
   ]
  },
  {
   "cell_type": "code",
<<<<<<< HEAD
   "execution_count": 6,
   "id": "1164bf8a",
=======
   "execution_count": 4,
   "id": "9314e33c",
>>>>>>> 4ebf13fe14fc4250577c2dfff76e95595ef488a2
   "metadata": {},
   "outputs": [],
   "source": [
    "from sklearn.preprocessing import LabelEncoder\n",
    "le = LabelEncoder()\n",
    "df2 = df.copy()\n",
    "df2[\"grad_date\"]= pd.to_datetime(df2[\"grad_date\"])\n",
    "df2[\"hs_ged_grad_date\"]= pd.to_datetime(df2[\"hs_ged_grad_date\"])\n",
    "df2[\"date_of_birth\"]= pd.to_datetime(df2[\"date_of_birth\"])"
   ]
  },
  {
   "cell_type": "code",
<<<<<<< HEAD
   "execution_count": 7,
   "id": "965c83a2",
=======
   "execution_count": 5,
   "id": "ae1a1ae3",
>>>>>>> 4ebf13fe14fc4250577c2dfff76e95595ef488a2
   "metadata": {},
   "outputs": [
    {
     "data": {
      "text/plain": [
       "Unnamed: 0                        int64\n",
       "id                              float64\n",
       "program                           int64\n",
       "grad_date                datetime64[ns]\n",
       "hs_ged                            int64\n",
       "hs_ged_grad_date         datetime64[ns]\n",
       "previous_college                  int64\n",
       "ethnic_description                int64\n",
       "gender                            int64\n",
       "gpa                             float64\n",
       "hours_attended                  float64\n",
       "hours_scheduled                 float64\n",
       "attendance_percentage           float64\n",
       "date_of_birth            datetime64[ns]\n",
       "default_status                    int64\n",
       "dtype: object"
      ]
     },
<<<<<<< HEAD
     "execution_count": 7,
=======
     "execution_count": 5,
>>>>>>> 4ebf13fe14fc4250577c2dfff76e95595ef488a2
     "metadata": {},
     "output_type": "execute_result"
    }
   ],
   "source": [
    "df2.dtypes"
   ]
  },
  {
   "cell_type": "code",
<<<<<<< HEAD
   "execution_count": 8,
=======
   "execution_count": 6,
>>>>>>> 4ebf13fe14fc4250577c2dfff76e95595ef488a2
   "id": "c935b79b",
   "metadata": {},
   "outputs": [
    {
     "data": {
      "text/html": [
       "<div>\n",
       "<style scoped>\n",
       "    .dataframe tbody tr th:only-of-type {\n",
       "        vertical-align: middle;\n",
       "    }\n",
       "\n",
       "    .dataframe tbody tr th {\n",
       "        vertical-align: top;\n",
       "    }\n",
       "\n",
       "    .dataframe thead th {\n",
       "        text-align: right;\n",
       "    }\n",
       "</style>\n",
       "<table border=\"1\" class=\"dataframe\">\n",
       "  <thead>\n",
       "    <tr style=\"text-align: right;\">\n",
       "      <th></th>\n",
       "      <th>Unnamed: 0</th>\n",
       "      <th>id</th>\n",
       "      <th>program</th>\n",
       "      <th>grad_date</th>\n",
       "      <th>hs_ged</th>\n",
       "      <th>hs_ged_grad_date</th>\n",
       "      <th>previous_college</th>\n",
       "      <th>ethnic_description</th>\n",
       "      <th>gender</th>\n",
       "      <th>gpa</th>\n",
       "      <th>hours_attended</th>\n",
       "      <th>hours_scheduled</th>\n",
       "      <th>attendance_percentage</th>\n",
       "      <th>date_of_birth</th>\n",
       "      <th>default_status</th>\n",
       "    </tr>\n",
       "  </thead>\n",
       "  <tbody>\n",
       "    <tr>\n",
       "      <th>0</th>\n",
       "      <td>0</td>\n",
       "      <td>10579.0</td>\n",
       "      <td>0</td>\n",
       "      <td>2020-03-16</td>\n",
       "      <td>2</td>\n",
       "      <td>2015-06-25</td>\n",
       "      <td>0</td>\n",
       "      <td>3</td>\n",
       "      <td>1</td>\n",
       "      <td>82.5</td>\n",
       "      <td>480.75</td>\n",
       "      <td>600.0</td>\n",
       "      <td>0.8013</td>\n",
       "      <td>1997-02-05</td>\n",
       "      <td>0</td>\n",
       "    </tr>\n",
       "    <tr>\n",
       "      <th>1</th>\n",
       "      <td>1</td>\n",
       "      <td>11118.0</td>\n",
       "      <td>1</td>\n",
       "      <td>2021-12-15</td>\n",
       "      <td>2</td>\n",
       "      <td>2010-05-01</td>\n",
       "      <td>1</td>\n",
       "      <td>2</td>\n",
       "      <td>1</td>\n",
       "      <td>95.0</td>\n",
       "      <td>150.00</td>\n",
       "      <td>150.0</td>\n",
       "      <td>1.0000</td>\n",
       "      <td>1991-12-17</td>\n",
       "      <td>0</td>\n",
       "    </tr>\n",
       "    <tr>\n",
       "      <th>2</th>\n",
       "      <td>2</td>\n",
       "      <td>10644.0</td>\n",
       "      <td>0</td>\n",
       "      <td>2020-06-30</td>\n",
       "      <td>2</td>\n",
       "      <td>1986-01-01</td>\n",
       "      <td>1</td>\n",
       "      <td>7</td>\n",
       "      <td>1</td>\n",
       "      <td>90.5</td>\n",
       "      <td>565.00</td>\n",
       "      <td>600.0</td>\n",
       "      <td>0.9417</td>\n",
       "      <td>1967-12-07</td>\n",
       "      <td>0</td>\n",
       "    </tr>\n",
       "    <tr>\n",
       "      <th>3</th>\n",
       "      <td>3</td>\n",
       "      <td>10560.0</td>\n",
       "      <td>0</td>\n",
       "      <td>2019-12-12</td>\n",
       "      <td>2</td>\n",
       "      <td>2017-06-17</td>\n",
       "      <td>1</td>\n",
       "      <td>7</td>\n",
       "      <td>1</td>\n",
       "      <td>81.0</td>\n",
       "      <td>523.50</td>\n",
       "      <td>600.0</td>\n",
       "      <td>0.8725</td>\n",
       "      <td>1999-09-23</td>\n",
       "      <td>0</td>\n",
       "    </tr>\n",
       "    <tr>\n",
       "      <th>4</th>\n",
       "      <td>4</td>\n",
       "      <td>10509.0</td>\n",
       "      <td>1</td>\n",
       "      <td>2019-06-20</td>\n",
       "      <td>2</td>\n",
       "      <td>2008-06-29</td>\n",
       "      <td>1</td>\n",
       "      <td>3</td>\n",
       "      <td>1</td>\n",
       "      <td>85.0</td>\n",
       "      <td>142.75</td>\n",
       "      <td>150.0</td>\n",
       "      <td>0.9517</td>\n",
       "      <td>1989-11-29</td>\n",
       "      <td>0</td>\n",
       "    </tr>\n",
       "  </tbody>\n",
       "</table>\n",
       "</div>"
      ],
      "text/plain": [
       "   Unnamed: 0       id  program  grad_date  hs_ged hs_ged_grad_date  \\\n",
       "0           0  10579.0        0 2020-03-16       2       2015-06-25   \n",
       "1           1  11118.0        1 2021-12-15       2       2010-05-01   \n",
       "2           2  10644.0        0 2020-06-30       2       1986-01-01   \n",
       "3           3  10560.0        0 2019-12-12       2       2017-06-17   \n",
       "4           4  10509.0        1 2019-06-20       2       2008-06-29   \n",
       "\n",
       "   previous_college  ethnic_description  gender   gpa  hours_attended  \\\n",
       "0                 0                   3       1  82.5          480.75   \n",
       "1                 1                   2       1  95.0          150.00   \n",
       "2                 1                   7       1  90.5          565.00   \n",
       "3                 1                   7       1  81.0          523.50   \n",
       "4                 1                   3       1  85.0          142.75   \n",
       "\n",
       "   hours_scheduled  attendance_percentage date_of_birth  default_status  \n",
       "0            600.0                 0.8013    1997-02-05               0  \n",
       "1            150.0                 1.0000    1991-12-17               0  \n",
       "2            600.0                 0.9417    1967-12-07               0  \n",
       "3            600.0                 0.8725    1999-09-23               0  \n",
       "4            150.0                 0.9517    1989-11-29               0  "
      ]
     },
<<<<<<< HEAD
     "execution_count": 8,
=======
     "execution_count": 6,
>>>>>>> 4ebf13fe14fc4250577c2dfff76e95595ef488a2
     "metadata": {},
     "output_type": "execute_result"
    }
   ],
   "source": [
    "df2.head()"
   ]
  },
  {
   "cell_type": "code",
<<<<<<< HEAD
   "execution_count": 9,
=======
   "execution_count": 7,
>>>>>>> 4ebf13fe14fc4250577c2dfff76e95595ef488a2
   "id": "9b570efb",
   "metadata": {},
   "outputs": [],
   "source": [
    "# Determine the independent and dependent variables.\n",
    "\n",
    "y = df2[\"default_status\"]\n",
    "X = df2.drop(columns=\"default_status\")"
   ]
  },
  {
   "cell_type": "code",
<<<<<<< HEAD
   "execution_count": 10,
   "id": "e1bf4416",
=======
   "execution_count": 8,
   "id": "334bd5d2",
>>>>>>> 4ebf13fe14fc4250577c2dfff76e95595ef488a2
   "metadata": {},
   "outputs": [
    {
     "data": {
      "text/plain": [
       "(308, 14)"
      ]
     },
<<<<<<< HEAD
     "execution_count": 10,
=======
     "execution_count": 8,
>>>>>>> 4ebf13fe14fc4250577c2dfff76e95595ef488a2
     "metadata": {},
     "output_type": "execute_result"
    }
   ],
   "source": [
    "# Split into a training and testing set.\n",
    "\n",
    "X_train, X_test, y_train, y_test = train_test_split(X, y, random_state=1, stratify=y)\n",
    "\n",
    "X_train.shape"
   ]
  },
  {
   "cell_type": "code",
<<<<<<< HEAD
   "execution_count": 14,
   "id": "31ef3714",
   "metadata": {},
   "outputs": [
    {
     "data": {
      "text/html": [
       "<div>\n",
       "<style scoped>\n",
       "    .dataframe tbody tr th:only-of-type {\n",
       "        vertical-align: middle;\n",
       "    }\n",
       "\n",
       "    .dataframe tbody tr th {\n",
       "        vertical-align: top;\n",
       "    }\n",
       "\n",
       "    .dataframe thead th {\n",
       "        text-align: right;\n",
       "    }\n",
       "</style>\n",
       "<table border=\"1\" class=\"dataframe\">\n",
       "  <thead>\n",
       "    <tr style=\"text-align: right;\">\n",
       "      <th></th>\n",
       "      <th>Unnamed: 0</th>\n",
       "      <th>id</th>\n",
       "      <th>program</th>\n",
       "      <th>grad_date</th>\n",
       "      <th>hs_ged</th>\n",
       "      <th>hs_ged_grad_date</th>\n",
       "      <th>previous_college</th>\n",
       "      <th>ethnic_description</th>\n",
       "      <th>gender</th>\n",
       "      <th>gpa</th>\n",
       "      <th>hours_attended</th>\n",
       "      <th>hours_scheduled</th>\n",
       "      <th>attendance_percentage</th>\n",
       "      <th>date_of_birth</th>\n",
       "    </tr>\n",
       "  </thead>\n",
       "  <tbody>\n",
       "    <tr>\n",
       "      <th>256</th>\n",
       "      <td>261</td>\n",
       "      <td>10506.0</td>\n",
       "      <td>1</td>\n",
       "      <td>2019-06-20</td>\n",
       "      <td>2</td>\n",
       "      <td>2009-05-22</td>\n",
       "      <td>1</td>\n",
       "      <td>7</td>\n",
       "      <td>1</td>\n",
       "      <td>96.0</td>\n",
       "      <td>145.25</td>\n",
       "      <td>150.0</td>\n",
       "      <td>0.9683</td>\n",
       "      <td>1990-06-28</td>\n",
       "    </tr>\n",
       "    <tr>\n",
       "      <th>36</th>\n",
       "      <td>38</td>\n",
       "      <td>10536.0</td>\n",
       "      <td>0</td>\n",
       "      <td>2019-12-12</td>\n",
       "      <td>2</td>\n",
       "      <td>2014-06-26</td>\n",
       "      <td>1</td>\n",
       "      <td>3</td>\n",
       "      <td>0</td>\n",
       "      <td>90.0</td>\n",
       "      <td>540.25</td>\n",
       "      <td>600.0</td>\n",
       "      <td>0.9004</td>\n",
       "      <td>1996-02-27</td>\n",
       "    </tr>\n",
       "    <tr>\n",
       "      <th>67</th>\n",
       "      <td>71</td>\n",
       "      <td>10612.0</td>\n",
       "      <td>0</td>\n",
       "      <td>2020-06-30</td>\n",
       "      <td>2</td>\n",
       "      <td>2012-11-01</td>\n",
       "      <td>1</td>\n",
       "      <td>1</td>\n",
       "      <td>1</td>\n",
       "      <td>93.0</td>\n",
       "      <td>580.75</td>\n",
       "      <td>600.0</td>\n",
       "      <td>0.9679</td>\n",
       "      <td>1994-04-19</td>\n",
       "    </tr>\n",
       "    <tr>\n",
       "      <th>42</th>\n",
       "      <td>44</td>\n",
       "      <td>10710.0</td>\n",
       "      <td>0</td>\n",
       "      <td>2020-12-10</td>\n",
       "      <td>1</td>\n",
       "      <td>2014-08-16</td>\n",
       "      <td>0</td>\n",
       "      <td>6</td>\n",
       "      <td>0</td>\n",
       "      <td>84.5</td>\n",
       "      <td>568.25</td>\n",
       "      <td>600.0</td>\n",
       "      <td>0.9471</td>\n",
       "      <td>1995-04-25</td>\n",
       "    </tr>\n",
       "    <tr>\n",
       "      <th>112</th>\n",
       "      <td>116</td>\n",
       "      <td>10375.0</td>\n",
       "      <td>1</td>\n",
       "      <td>2018-06-21</td>\n",
       "      <td>2</td>\n",
       "      <td>2013-06-01</td>\n",
       "      <td>1</td>\n",
       "      <td>7</td>\n",
       "      <td>0</td>\n",
       "      <td>95.0</td>\n",
       "      <td>138.50</td>\n",
       "      <td>150.0</td>\n",
       "      <td>0.9233</td>\n",
       "      <td>1995-12-12</td>\n",
       "    </tr>\n",
       "    <tr>\n",
       "      <th>...</th>\n",
       "      <td>...</td>\n",
       "      <td>...</td>\n",
       "      <td>...</td>\n",
       "      <td>...</td>\n",
       "      <td>...</td>\n",
       "      <td>...</td>\n",
       "      <td>...</td>\n",
       "      <td>...</td>\n",
       "      <td>...</td>\n",
       "      <td>...</td>\n",
       "      <td>...</td>\n",
       "      <td>...</td>\n",
       "      <td>...</td>\n",
       "      <td>...</td>\n",
       "    </tr>\n",
       "    <tr>\n",
       "      <th>304</th>\n",
       "      <td>311</td>\n",
       "      <td>11114.0</td>\n",
       "      <td>0</td>\n",
       "      <td>2022-03-23</td>\n",
       "      <td>2</td>\n",
       "      <td>2008-01-01</td>\n",
       "      <td>1</td>\n",
       "      <td>5</td>\n",
       "      <td>0</td>\n",
       "      <td>90.0</td>\n",
       "      <td>576.00</td>\n",
       "      <td>600.0</td>\n",
       "      <td>0.9600</td>\n",
       "      <td>1989-05-15</td>\n",
       "    </tr>\n",
       "    <tr>\n",
       "      <th>356</th>\n",
       "      <td>363</td>\n",
       "      <td>10600.0</td>\n",
       "      <td>1</td>\n",
       "      <td>2019-12-18</td>\n",
       "      <td>2</td>\n",
       "      <td>2008-06-01</td>\n",
       "      <td>1</td>\n",
       "      <td>7</td>\n",
       "      <td>0</td>\n",
       "      <td>97.0</td>\n",
       "      <td>140.00</td>\n",
       "      <td>150.0</td>\n",
       "      <td>0.9333</td>\n",
       "      <td>1990-07-17</td>\n",
       "    </tr>\n",
       "    <tr>\n",
       "      <th>207</th>\n",
       "      <td>212</td>\n",
       "      <td>10679.0</td>\n",
       "      <td>1</td>\n",
       "      <td>2020-07-02</td>\n",
       "      <td>2</td>\n",
       "      <td>2010-01-01</td>\n",
       "      <td>1</td>\n",
       "      <td>1</td>\n",
       "      <td>1</td>\n",
       "      <td>94.0</td>\n",
       "      <td>144.75</td>\n",
       "      <td>150.0</td>\n",
       "      <td>0.9650</td>\n",
       "      <td>1992-06-26</td>\n",
       "    </tr>\n",
       "    <tr>\n",
       "      <th>55</th>\n",
       "      <td>59</td>\n",
       "      <td>10403.0</td>\n",
       "      <td>1</td>\n",
       "      <td>2018-09-20</td>\n",
       "      <td>2</td>\n",
       "      <td>1998-12-20</td>\n",
       "      <td>1</td>\n",
       "      <td>5</td>\n",
       "      <td>0</td>\n",
       "      <td>95.0</td>\n",
       "      <td>144.00</td>\n",
       "      <td>150.0</td>\n",
       "      <td>0.9600</td>\n",
       "      <td>1980-12-07</td>\n",
       "    </tr>\n",
       "    <tr>\n",
       "      <th>237</th>\n",
       "      <td>242</td>\n",
       "      <td>10460.0</td>\n",
       "      <td>0</td>\n",
       "      <td>2019-06-12</td>\n",
       "      <td>2</td>\n",
       "      <td>1990-12-01</td>\n",
       "      <td>1</td>\n",
       "      <td>3</td>\n",
       "      <td>1</td>\n",
       "      <td>88.0</td>\n",
       "      <td>501.75</td>\n",
       "      <td>600.0</td>\n",
       "      <td>0.8363</td>\n",
       "      <td>1973-04-30</td>\n",
       "    </tr>\n",
       "  </tbody>\n",
       "</table>\n",
       "<p>308 rows × 14 columns</p>\n",
       "</div>"
      ],
      "text/plain": [
       "     Unnamed: 0       id  program  grad_date  hs_ged hs_ged_grad_date  \\\n",
       "256         261  10506.0        1 2019-06-20       2       2009-05-22   \n",
       "36           38  10536.0        0 2019-12-12       2       2014-06-26   \n",
       "67           71  10612.0        0 2020-06-30       2       2012-11-01   \n",
       "42           44  10710.0        0 2020-12-10       1       2014-08-16   \n",
       "112         116  10375.0        1 2018-06-21       2       2013-06-01   \n",
       "..          ...      ...      ...        ...     ...              ...   \n",
       "304         311  11114.0        0 2022-03-23       2       2008-01-01   \n",
       "356         363  10600.0        1 2019-12-18       2       2008-06-01   \n",
       "207         212  10679.0        1 2020-07-02       2       2010-01-01   \n",
       "55           59  10403.0        1 2018-09-20       2       1998-12-20   \n",
       "237         242  10460.0        0 2019-06-12       2       1990-12-01   \n",
       "\n",
       "     previous_college  ethnic_description  gender   gpa  hours_attended  \\\n",
       "256                 1                   7       1  96.0          145.25   \n",
       "36                  1                   3       0  90.0          540.25   \n",
       "67                  1                   1       1  93.0          580.75   \n",
       "42                  0                   6       0  84.5          568.25   \n",
       "112                 1                   7       0  95.0          138.50   \n",
       "..                ...                 ...     ...   ...             ...   \n",
       "304                 1                   5       0  90.0          576.00   \n",
       "356                 1                   7       0  97.0          140.00   \n",
       "207                 1                   1       1  94.0          144.75   \n",
       "55                  1                   5       0  95.0          144.00   \n",
       "237                 1                   3       1  88.0          501.75   \n",
       "\n",
       "     hours_scheduled  attendance_percentage date_of_birth  \n",
       "256            150.0                 0.9683    1990-06-28  \n",
       "36             600.0                 0.9004    1996-02-27  \n",
       "67             600.0                 0.9679    1994-04-19  \n",
       "42             600.0                 0.9471    1995-04-25  \n",
       "112            150.0                 0.9233    1995-12-12  \n",
       "..               ...                    ...           ...  \n",
       "304            600.0                 0.9600    1989-05-15  \n",
       "356            150.0                 0.9333    1990-07-17  \n",
       "207            150.0                 0.9650    1992-06-26  \n",
       "55             150.0                 0.9600    1980-12-07  \n",
       "237            600.0                 0.8363    1973-04-30  \n",
       "\n",
       "[308 rows x 14 columns]"
      ]
     },
     "execution_count": 14,
     "metadata": {},
     "output_type": "execute_result"
    }
   ],
   "source": [
    "X_train"
   ]
  },
  {
   "cell_type": "code",
   "execution_count": 11,
   "id": "b4c338de",
=======
   "execution_count": 9,
   "id": "80228b48",
>>>>>>> 4ebf13fe14fc4250577c2dfff76e95595ef488a2
   "metadata": {},
   "outputs": [
    {
     "data": {
      "text/plain": [
       "LogisticRegression(random_state=1)"
      ]
     },
<<<<<<< HEAD
     "execution_count": 11,
=======
     "execution_count": 9,
>>>>>>> 4ebf13fe14fc4250577c2dfff76e95595ef488a2
     "metadata": {},
     "output_type": "execute_result"
    }
   ],
   "source": [
    "# Instantiate a logistic regression model.\n",
    "\n",
    "classifier = LogisticRegression(solver='lbfgs', random_state=1)\n",
    "classifier"
   ]
  },
  {
   "cell_type": "code",
<<<<<<< HEAD
   "execution_count": 12,
   "id": "ccd3a124",
=======
   "execution_count": 10,
   "id": "4d731c0a",
>>>>>>> 4ebf13fe14fc4250577c2dfff76e95595ef488a2
   "metadata": {},
   "outputs": [
    {
     "ename": "TypeError",
     "evalue": "The DTypes <class 'numpy.dtype[datetime64]'> and <class 'numpy.dtype[float64]'> do not have a common DType. For example they cannot be stored in a single array unless the dtype is `object`.",
     "output_type": "error",
     "traceback": [
      "\u001b[1;31m---------------------------------------------------------------------------\u001b[0m",
      "\u001b[1;31mTypeError\u001b[0m                                 Traceback (most recent call last)",
<<<<<<< HEAD
      "\u001b[1;32m~\\AppData\\Local\\Temp/ipykernel_29096/1579594615.py\u001b[0m in \u001b[0;36m<module>\u001b[1;34m\u001b[0m\n\u001b[0;32m      1\u001b[0m \u001b[1;31m# Train the logistic regression model.\u001b[0m\u001b[1;33m\u001b[0m\u001b[1;33m\u001b[0m\u001b[1;33m\u001b[0m\u001b[0m\n\u001b[1;32m----> 2\u001b[1;33m \u001b[0mclassifier\u001b[0m\u001b[1;33m.\u001b[0m\u001b[0mfit\u001b[0m\u001b[1;33m(\u001b[0m\u001b[0mX_train\u001b[0m\u001b[1;33m,\u001b[0m \u001b[0my_train\u001b[0m\u001b[1;33m)\u001b[0m\u001b[1;33m\u001b[0m\u001b[1;33m\u001b[0m\u001b[0m\n\u001b[0m",
=======
      "\u001b[1;32m~\\AppData\\Local\\Temp/ipykernel_20580/1579594615.py\u001b[0m in \u001b[0;36m<module>\u001b[1;34m\u001b[0m\n\u001b[0;32m      1\u001b[0m \u001b[1;31m# Train the logistic regression model.\u001b[0m\u001b[1;33m\u001b[0m\u001b[1;33m\u001b[0m\u001b[1;33m\u001b[0m\u001b[0m\n\u001b[1;32m----> 2\u001b[1;33m \u001b[0mclassifier\u001b[0m\u001b[1;33m.\u001b[0m\u001b[0mfit\u001b[0m\u001b[1;33m(\u001b[0m\u001b[0mX_train\u001b[0m\u001b[1;33m,\u001b[0m \u001b[0my_train\u001b[0m\u001b[1;33m)\u001b[0m\u001b[1;33m\u001b[0m\u001b[1;33m\u001b[0m\u001b[0m\n\u001b[0m",
>>>>>>> 4ebf13fe14fc4250577c2dfff76e95595ef488a2
      "\u001b[1;32m~\\anaconda3\\envs\\mlenv\\lib\\site-packages\\sklearn\\linear_model\\_logistic.py\u001b[0m in \u001b[0;36mfit\u001b[1;34m(self, X, y, sample_weight)\u001b[0m\n\u001b[0;32m   1344\u001b[0m         X, y = self._validate_data(X, y, accept_sparse='csr', dtype=_dtype,\n\u001b[0;32m   1345\u001b[0m                                    \u001b[0morder\u001b[0m\u001b[1;33m=\u001b[0m\u001b[1;34m\"C\"\u001b[0m\u001b[1;33m,\u001b[0m\u001b[1;33m\u001b[0m\u001b[1;33m\u001b[0m\u001b[0m\n\u001b[1;32m-> 1346\u001b[1;33m                                    accept_large_sparse=solver != 'liblinear')\n\u001b[0m\u001b[0;32m   1347\u001b[0m         \u001b[0mcheck_classification_targets\u001b[0m\u001b[1;33m(\u001b[0m\u001b[0my\u001b[0m\u001b[1;33m)\u001b[0m\u001b[1;33m\u001b[0m\u001b[1;33m\u001b[0m\u001b[0m\n\u001b[0;32m   1348\u001b[0m         \u001b[0mself\u001b[0m\u001b[1;33m.\u001b[0m\u001b[0mclasses_\u001b[0m \u001b[1;33m=\u001b[0m \u001b[0mnp\u001b[0m\u001b[1;33m.\u001b[0m\u001b[0munique\u001b[0m\u001b[1;33m(\u001b[0m\u001b[0my\u001b[0m\u001b[1;33m)\u001b[0m\u001b[1;33m\u001b[0m\u001b[1;33m\u001b[0m\u001b[0m\n",
      "\u001b[1;32m~\\anaconda3\\envs\\mlenv\\lib\\site-packages\\sklearn\\base.py\u001b[0m in \u001b[0;36m_validate_data\u001b[1;34m(self, X, y, reset, validate_separately, **check_params)\u001b[0m\n\u001b[0;32m    431\u001b[0m                 \u001b[0my\u001b[0m \u001b[1;33m=\u001b[0m \u001b[0mcheck_array\u001b[0m\u001b[1;33m(\u001b[0m\u001b[0my\u001b[0m\u001b[1;33m,\u001b[0m \u001b[1;33m**\u001b[0m\u001b[0mcheck_y_params\u001b[0m\u001b[1;33m)\u001b[0m\u001b[1;33m\u001b[0m\u001b[1;33m\u001b[0m\u001b[0m\n\u001b[0;32m    432\u001b[0m             \u001b[1;32melse\u001b[0m\u001b[1;33m:\u001b[0m\u001b[1;33m\u001b[0m\u001b[1;33m\u001b[0m\u001b[0m\n\u001b[1;32m--> 433\u001b[1;33m                 \u001b[0mX\u001b[0m\u001b[1;33m,\u001b[0m \u001b[0my\u001b[0m \u001b[1;33m=\u001b[0m \u001b[0mcheck_X_y\u001b[0m\u001b[1;33m(\u001b[0m\u001b[0mX\u001b[0m\u001b[1;33m,\u001b[0m \u001b[0my\u001b[0m\u001b[1;33m,\u001b[0m \u001b[1;33m**\u001b[0m\u001b[0mcheck_params\u001b[0m\u001b[1;33m)\u001b[0m\u001b[1;33m\u001b[0m\u001b[1;33m\u001b[0m\u001b[0m\n\u001b[0m\u001b[0;32m    434\u001b[0m             \u001b[0mout\u001b[0m \u001b[1;33m=\u001b[0m \u001b[0mX\u001b[0m\u001b[1;33m,\u001b[0m \u001b[0my\u001b[0m\u001b[1;33m\u001b[0m\u001b[1;33m\u001b[0m\u001b[0m\n\u001b[0;32m    435\u001b[0m \u001b[1;33m\u001b[0m\u001b[0m\n",
      "\u001b[1;32m~\\anaconda3\\envs\\mlenv\\lib\\site-packages\\sklearn\\utils\\validation.py\u001b[0m in \u001b[0;36minner_f\u001b[1;34m(*args, **kwargs)\u001b[0m\n\u001b[0;32m     61\u001b[0m             \u001b[0mextra_args\u001b[0m \u001b[1;33m=\u001b[0m \u001b[0mlen\u001b[0m\u001b[1;33m(\u001b[0m\u001b[0margs\u001b[0m\u001b[1;33m)\u001b[0m \u001b[1;33m-\u001b[0m \u001b[0mlen\u001b[0m\u001b[1;33m(\u001b[0m\u001b[0mall_args\u001b[0m\u001b[1;33m)\u001b[0m\u001b[1;33m\u001b[0m\u001b[1;33m\u001b[0m\u001b[0m\n\u001b[0;32m     62\u001b[0m             \u001b[1;32mif\u001b[0m \u001b[0mextra_args\u001b[0m \u001b[1;33m<=\u001b[0m \u001b[1;36m0\u001b[0m\u001b[1;33m:\u001b[0m\u001b[1;33m\u001b[0m\u001b[1;33m\u001b[0m\u001b[0m\n\u001b[1;32m---> 63\u001b[1;33m                 \u001b[1;32mreturn\u001b[0m \u001b[0mf\u001b[0m\u001b[1;33m(\u001b[0m\u001b[1;33m*\u001b[0m\u001b[0margs\u001b[0m\u001b[1;33m,\u001b[0m \u001b[1;33m**\u001b[0m\u001b[0mkwargs\u001b[0m\u001b[1;33m)\u001b[0m\u001b[1;33m\u001b[0m\u001b[1;33m\u001b[0m\u001b[0m\n\u001b[0m\u001b[0;32m     64\u001b[0m \u001b[1;33m\u001b[0m\u001b[0m\n\u001b[0;32m     65\u001b[0m             \u001b[1;31m# extra_args > 0\u001b[0m\u001b[1;33m\u001b[0m\u001b[1;33m\u001b[0m\u001b[1;33m\u001b[0m\u001b[0m\n",
      "\u001b[1;32m~\\anaconda3\\envs\\mlenv\\lib\\site-packages\\sklearn\\utils\\validation.py\u001b[0m in \u001b[0;36mcheck_X_y\u001b[1;34m(X, y, accept_sparse, accept_large_sparse, dtype, order, copy, force_all_finite, ensure_2d, allow_nd, multi_output, ensure_min_samples, ensure_min_features, y_numeric, estimator)\u001b[0m\n\u001b[0;32m    876\u001b[0m                     \u001b[0mensure_min_samples\u001b[0m\u001b[1;33m=\u001b[0m\u001b[0mensure_min_samples\u001b[0m\u001b[1;33m,\u001b[0m\u001b[1;33m\u001b[0m\u001b[1;33m\u001b[0m\u001b[0m\n\u001b[0;32m    877\u001b[0m                     \u001b[0mensure_min_features\u001b[0m\u001b[1;33m=\u001b[0m\u001b[0mensure_min_features\u001b[0m\u001b[1;33m,\u001b[0m\u001b[1;33m\u001b[0m\u001b[1;33m\u001b[0m\u001b[0m\n\u001b[1;32m--> 878\u001b[1;33m                     estimator=estimator)\n\u001b[0m\u001b[0;32m    879\u001b[0m     \u001b[1;32mif\u001b[0m \u001b[0mmulti_output\u001b[0m\u001b[1;33m:\u001b[0m\u001b[1;33m\u001b[0m\u001b[1;33m\u001b[0m\u001b[0m\n\u001b[0;32m    880\u001b[0m         y = check_array(y, accept_sparse='csr', force_all_finite=True,\n",
      "\u001b[1;32m~\\anaconda3\\envs\\mlenv\\lib\\site-packages\\sklearn\\utils\\validation.py\u001b[0m in \u001b[0;36minner_f\u001b[1;34m(*args, **kwargs)\u001b[0m\n\u001b[0;32m     61\u001b[0m             \u001b[0mextra_args\u001b[0m \u001b[1;33m=\u001b[0m \u001b[0mlen\u001b[0m\u001b[1;33m(\u001b[0m\u001b[0margs\u001b[0m\u001b[1;33m)\u001b[0m \u001b[1;33m-\u001b[0m \u001b[0mlen\u001b[0m\u001b[1;33m(\u001b[0m\u001b[0mall_args\u001b[0m\u001b[1;33m)\u001b[0m\u001b[1;33m\u001b[0m\u001b[1;33m\u001b[0m\u001b[0m\n\u001b[0;32m     62\u001b[0m             \u001b[1;32mif\u001b[0m \u001b[0mextra_args\u001b[0m \u001b[1;33m<=\u001b[0m \u001b[1;36m0\u001b[0m\u001b[1;33m:\u001b[0m\u001b[1;33m\u001b[0m\u001b[1;33m\u001b[0m\u001b[0m\n\u001b[1;32m---> 63\u001b[1;33m                 \u001b[1;32mreturn\u001b[0m \u001b[0mf\u001b[0m\u001b[1;33m(\u001b[0m\u001b[1;33m*\u001b[0m\u001b[0margs\u001b[0m\u001b[1;33m,\u001b[0m \u001b[1;33m**\u001b[0m\u001b[0mkwargs\u001b[0m\u001b[1;33m)\u001b[0m\u001b[1;33m\u001b[0m\u001b[1;33m\u001b[0m\u001b[0m\n\u001b[0m\u001b[0;32m     64\u001b[0m \u001b[1;33m\u001b[0m\u001b[0m\n\u001b[0;32m     65\u001b[0m             \u001b[1;31m# extra_args > 0\u001b[0m\u001b[1;33m\u001b[0m\u001b[1;33m\u001b[0m\u001b[1;33m\u001b[0m\u001b[0m\n",
      "\u001b[1;32m~\\anaconda3\\envs\\mlenv\\lib\\site-packages\\sklearn\\utils\\validation.py\u001b[0m in \u001b[0;36mcheck_array\u001b[1;34m(array, accept_sparse, accept_large_sparse, dtype, order, copy, force_all_finite, ensure_2d, allow_nd, ensure_min_samples, ensure_min_features, estimator)\u001b[0m\n\u001b[0;32m    595\u001b[0m \u001b[1;33m\u001b[0m\u001b[0m\n\u001b[0;32m    596\u001b[0m         \u001b[1;32mif\u001b[0m \u001b[0mall\u001b[0m\u001b[1;33m(\u001b[0m\u001b[0misinstance\u001b[0m\u001b[1;33m(\u001b[0m\u001b[0mdtype\u001b[0m\u001b[1;33m,\u001b[0m \u001b[0mnp\u001b[0m\u001b[1;33m.\u001b[0m\u001b[0mdtype\u001b[0m\u001b[1;33m)\u001b[0m \u001b[1;32mfor\u001b[0m \u001b[0mdtype\u001b[0m \u001b[1;32min\u001b[0m \u001b[0mdtypes_orig\u001b[0m\u001b[1;33m)\u001b[0m\u001b[1;33m:\u001b[0m\u001b[1;33m\u001b[0m\u001b[1;33m\u001b[0m\u001b[0m\n\u001b[1;32m--> 597\u001b[1;33m             \u001b[0mdtype_orig\u001b[0m \u001b[1;33m=\u001b[0m \u001b[0mnp\u001b[0m\u001b[1;33m.\u001b[0m\u001b[0mresult_type\u001b[0m\u001b[1;33m(\u001b[0m\u001b[1;33m*\u001b[0m\u001b[0mdtypes_orig\u001b[0m\u001b[1;33m)\u001b[0m\u001b[1;33m\u001b[0m\u001b[1;33m\u001b[0m\u001b[0m\n\u001b[0m\u001b[0;32m    598\u001b[0m \u001b[1;33m\u001b[0m\u001b[0m\n\u001b[0;32m    599\u001b[0m     \u001b[1;32mif\u001b[0m \u001b[0mdtype_numeric\u001b[0m\u001b[1;33m:\u001b[0m\u001b[1;33m\u001b[0m\u001b[1;33m\u001b[0m\u001b[0m\n",
      "\u001b[1;32m<__array_function__ internals>\u001b[0m in \u001b[0;36mresult_type\u001b[1;34m(*args, **kwargs)\u001b[0m\n",
      "\u001b[1;31mTypeError\u001b[0m: The DTypes <class 'numpy.dtype[datetime64]'> and <class 'numpy.dtype[float64]'> do not have a common DType. For example they cannot be stored in a single array unless the dtype is `object`."
     ]
    }
   ],
   "source": [
    "# Train the logistic regression model.\n",
    "classifier.fit(X_train, y_train)"
   ]
  },
  {
   "cell_type": "code",
<<<<<<< HEAD
   "execution_count": 13,
   "id": "8a7bc699",
   "metadata": {},
   "outputs": [
    {
     "data": {
      "text/plain": [
       "Unnamed: 0                        int64\n",
       "id                              float64\n",
       "program                           int64\n",
       "grad_date                datetime64[ns]\n",
       "hs_ged                            int64\n",
       "hs_ged_grad_date         datetime64[ns]\n",
       "previous_college                  int64\n",
       "ethnic_description                int64\n",
       "gender                            int64\n",
       "gpa                             float64\n",
       "hours_attended                  float64\n",
       "hours_scheduled                 float64\n",
       "attendance_percentage           float64\n",
       "date_of_birth            datetime64[ns]\n",
       "default_status                    int64\n",
       "dtype: object"
      ]
     },
     "execution_count": 13,
     "metadata": {},
     "output_type": "execute_result"
    }
   ],
   "source": [
    "df2.dtypes"
   ]
  },
  {
   "cell_type": "code",
   "execution_count": null,
   "id": "4ba09f8e",
=======
   "execution_count": null,
   "id": "76106c44",
>>>>>>> 4ebf13fe14fc4250577c2dfff76e95595ef488a2
   "metadata": {},
   "outputs": [],
   "source": [
    "# Validate the logistic regression model.\n",
    "\n",
    "predictions = classifier.predict(X_test)\n",
    "pd.DataFrame({\"Prediction\": predictions, \"Actual\": y_test})"
   ]
  },
  {
   "cell_type": "code",
   "execution_count": null,
<<<<<<< HEAD
   "id": "67fd541b",
=======
   "id": "d671996a",
>>>>>>> 4ebf13fe14fc4250577c2dfff76e95595ef488a2
   "metadata": {},
   "outputs": [],
   "source": [
    "df.dtypes"
   ]
  },
  {
   "cell_type": "code",
   "execution_count": null,
<<<<<<< HEAD
   "id": "57fdcb0c",
=======
   "id": "c8b9b28b",
>>>>>>> 4ebf13fe14fc4250577c2dfff76e95595ef488a2
   "metadata": {},
   "outputs": [],
   "source": [
    "# Assess the performance.\n",
    "\n",
    "print(accuracy_score(y_test, predictions))"
   ]
  },
  {
   "cell_type": "code",
   "execution_count": null,
<<<<<<< HEAD
   "id": "04df0558",
=======
   "id": "ace98e2a",
>>>>>>> 4ebf13fe14fc4250577c2dfff76e95595ef488a2
   "metadata": {},
   "outputs": [],
   "source": [
    "# Determine feature importance."
   ]
  }
 ],
 "metadata": {
  "kernelspec": {
   "display_name": "mlenv",
   "language": "python",
   "name": "mlenv"
  },
  "language_info": {
   "codemirror_mode": {
    "name": "ipython",
    "version": 3
   },
   "file_extension": ".py",
   "mimetype": "text/x-python",
   "name": "python",
   "nbconvert_exporter": "python",
   "pygments_lexer": "ipython3",
   "version": "3.7.11"
  }
 },
 "nbformat": 4,
 "nbformat_minor": 5
}
