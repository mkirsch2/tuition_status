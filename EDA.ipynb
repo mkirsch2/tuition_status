{
 "cells": [
  {
   "cell_type": "code",
<<<<<<< HEAD
   "execution_count": 3,
=======
   "execution_count": 1,
>>>>>>> 4ebf13fe14fc4250577c2dfff76e95595ef488a2
   "id": "8aada525",
   "metadata": {},
   "outputs": [],
   "source": [
    "# Import dependencies.\n",
    "import pandas as pd"
   ]
  },
  {
   "cell_type": "code",
<<<<<<< HEAD
   "execution_count": 4,
=======
   "execution_count": 2,
>>>>>>> 4ebf13fe14fc4250577c2dfff76e95595ef488a2
   "id": "e720eda7",
   "metadata": {},
   "outputs": [],
   "source": [
    "# Read in CSV file.\n",
    "df = pd.read_csv(\"Resources/prepped_data.csv\")"
   ]
  },
  {
   "cell_type": "code",
<<<<<<< HEAD
   "execution_count": 5,
=======
   "execution_count": 3,
>>>>>>> 4ebf13fe14fc4250577c2dfff76e95595ef488a2
   "id": "fd7bb640",
   "metadata": {},
   "outputs": [
    {
     "data": {
      "text/html": [
       "<div>\n",
       "<style scoped>\n",
       "    .dataframe tbody tr th:only-of-type {\n",
       "        vertical-align: middle;\n",
       "    }\n",
       "\n",
       "    .dataframe tbody tr th {\n",
       "        vertical-align: top;\n",
       "    }\n",
       "\n",
       "    .dataframe thead th {\n",
       "        text-align: right;\n",
       "    }\n",
       "</style>\n",
       "<table border=\"1\" class=\"dataframe\">\n",
       "  <thead>\n",
       "    <tr style=\"text-align: right;\">\n",
       "      <th></th>\n",
       "      <th>id</th>\n",
       "      <th>program</th>\n",
       "      <th>grad_date</th>\n",
       "      <th>hs_ged</th>\n",
       "      <th>hs_ged_grad_date</th>\n",
       "      <th>previous_college</th>\n",
       "      <th>ethnic_description</th>\n",
       "      <th>gender</th>\n",
       "      <th>gpa</th>\n",
       "      <th>hours_attended</th>\n",
       "      <th>hours_scheduled</th>\n",
       "      <th>attendance_percentage</th>\n",
       "      <th>date_of_birth</th>\n",
       "      <th>default_status</th>\n",
       "    </tr>\n",
       "  </thead>\n",
       "  <tbody>\n",
       "    <tr>\n",
       "      <th>0</th>\n",
       "      <td>10579.0</td>\n",
       "      <td>MC-FT 600</td>\n",
       "      <td>2020-03-16</td>\n",
       "      <td>High School</td>\n",
       "      <td>2015-06-25</td>\n",
       "      <td>N</td>\n",
       "      <td>Hispanic/Latino</td>\n",
       "      <td>M</td>\n",
       "      <td>82.5</td>\n",
       "      <td>480.75</td>\n",
       "      <td>600.0</td>\n",
       "      <td>0.8013</td>\n",
       "      <td>1997-02-05</td>\n",
       "      <td>no</td>\n",
       "    </tr>\n",
       "    <tr>\n",
       "      <th>1</th>\n",
       "      <td>11118.0</td>\n",
       "      <td>PTF</td>\n",
       "      <td>2021-12-15</td>\n",
       "      <td>High School</td>\n",
       "      <td>2010-05-01</td>\n",
       "      <td>Y</td>\n",
       "      <td>Black or African American</td>\n",
       "      <td>M</td>\n",
       "      <td>95.0</td>\n",
       "      <td>150.00</td>\n",
       "      <td>150.0</td>\n",
       "      <td>1.0000</td>\n",
       "      <td>1991-12-17</td>\n",
       "      <td>no</td>\n",
       "    </tr>\n",
       "    <tr>\n",
       "      <th>2</th>\n",
       "      <td>10644.0</td>\n",
       "      <td>MC-FT 600</td>\n",
       "      <td>2020-06-30</td>\n",
       "      <td>High School</td>\n",
       "      <td>1986-01-01</td>\n",
       "      <td>Y</td>\n",
       "      <td>White</td>\n",
       "      <td>M</td>\n",
       "      <td>90.5</td>\n",
       "      <td>565.00</td>\n",
       "      <td>600.0</td>\n",
       "      <td>0.9417</td>\n",
       "      <td>1967-12-07</td>\n",
       "      <td>no</td>\n",
       "    </tr>\n",
       "    <tr>\n",
       "      <th>3</th>\n",
       "      <td>10560.0</td>\n",
       "      <td>MC-FT 600</td>\n",
       "      <td>2019-12-12</td>\n",
       "      <td>High School</td>\n",
       "      <td>2017-06-17</td>\n",
       "      <td>Y</td>\n",
       "      <td>White</td>\n",
       "      <td>M</td>\n",
       "      <td>81.0</td>\n",
       "      <td>523.50</td>\n",
       "      <td>600.0</td>\n",
       "      <td>0.8725</td>\n",
       "      <td>1999-09-23</td>\n",
       "      <td>no</td>\n",
       "    </tr>\n",
       "    <tr>\n",
       "      <th>4</th>\n",
       "      <td>10509.0</td>\n",
       "      <td>PTF</td>\n",
       "      <td>2019-06-20</td>\n",
       "      <td>High School</td>\n",
       "      <td>2008-06-29</td>\n",
       "      <td>Y</td>\n",
       "      <td>Hispanic/Latino</td>\n",
       "      <td>M</td>\n",
       "      <td>85.0</td>\n",
       "      <td>142.75</td>\n",
       "      <td>150.0</td>\n",
       "      <td>0.9517</td>\n",
       "      <td>1989-11-29</td>\n",
       "      <td>no</td>\n",
       "    </tr>\n",
       "  </tbody>\n",
       "</table>\n",
       "</div>"
      ],
      "text/plain": [
       "        id    program   grad_date       hs_ged hs_ged_grad_date  \\\n",
       "0  10579.0  MC-FT 600  2020-03-16  High School       2015-06-25   \n",
       "1  11118.0        PTF  2021-12-15  High School       2010-05-01   \n",
       "2  10644.0  MC-FT 600  2020-06-30  High School       1986-01-01   \n",
       "3  10560.0  MC-FT 600  2019-12-12  High School       2017-06-17   \n",
       "4  10509.0        PTF  2019-06-20  High School       2008-06-29   \n",
       "\n",
       "  previous_college         ethnic_description gender   gpa  hours_attended  \\\n",
       "0                N            Hispanic/Latino      M  82.5          480.75   \n",
       "1                Y  Black or African American      M  95.0          150.00   \n",
       "2                Y                      White      M  90.5          565.00   \n",
       "3                Y                      White      M  81.0          523.50   \n",
       "4                Y            Hispanic/Latino      M  85.0          142.75   \n",
       "\n",
       "   hours_scheduled  attendance_percentage date_of_birth default_status  \n",
       "0            600.0                 0.8013    1997-02-05             no  \n",
       "1            150.0                 1.0000    1991-12-17             no  \n",
       "2            600.0                 0.9417    1967-12-07             no  \n",
       "3            600.0                 0.8725    1999-09-23             no  \n",
       "4            150.0                 0.9517    1989-11-29             no  "
      ]
     },
<<<<<<< HEAD
     "execution_count": 5,
=======
     "execution_count": 3,
>>>>>>> 4ebf13fe14fc4250577c2dfff76e95595ef488a2
     "metadata": {},
     "output_type": "execute_result"
    }
   ],
   "source": [
    "df.head()"
   ]
  },
  {
   "cell_type": "code",
<<<<<<< HEAD
   "execution_count": 6,
=======
   "execution_count": 4,
>>>>>>> 4ebf13fe14fc4250577c2dfff76e95595ef488a2
   "id": "c5682983",
   "metadata": {},
   "outputs": [
    {
     "data": {
      "text/html": [
       "<div>\n",
       "<style scoped>\n",
       "    .dataframe tbody tr th:only-of-type {\n",
       "        vertical-align: middle;\n",
       "    }\n",
       "\n",
       "    .dataframe tbody tr th {\n",
       "        vertical-align: top;\n",
       "    }\n",
       "\n",
       "    .dataframe thead th {\n",
       "        text-align: right;\n",
       "    }\n",
       "</style>\n",
       "<table border=\"1\" class=\"dataframe\">\n",
       "  <thead>\n",
       "    <tr style=\"text-align: right;\">\n",
       "      <th></th>\n",
       "      <th>id</th>\n",
       "      <th>program</th>\n",
       "      <th>grad_date</th>\n",
       "      <th>hs_ged</th>\n",
       "      <th>hs_ged_grad_date</th>\n",
       "      <th>previous_college</th>\n",
       "      <th>ethnic_description</th>\n",
       "      <th>gender</th>\n",
       "      <th>gpa</th>\n",
       "      <th>hours_attended</th>\n",
       "      <th>hours_scheduled</th>\n",
       "      <th>attendance_percentage</th>\n",
       "      <th>date_of_birth</th>\n",
       "      <th>default_status</th>\n",
       "    </tr>\n",
       "  </thead>\n",
       "  <tbody>\n",
       "    <tr>\n",
       "      <th>727</th>\n",
       "      <td>NaN</td>\n",
       "      <td>NaN</td>\n",
       "      <td>NaN</td>\n",
       "      <td>NaN</td>\n",
       "      <td>NaN</td>\n",
       "      <td>NaN</td>\n",
       "      <td>NaN</td>\n",
       "      <td>NaN</td>\n",
       "      <td>NaN</td>\n",
       "      <td>95.75</td>\n",
       "      <td>138.0</td>\n",
       "      <td>0.6938</td>\n",
       "      <td>NaN</td>\n",
       "      <td>NaN</td>\n",
       "    </tr>\n",
       "    <tr>\n",
       "      <th>728</th>\n",
       "      <td>NaN</td>\n",
       "      <td>NaN</td>\n",
       "      <td>NaN</td>\n",
       "      <td>NaN</td>\n",
       "      <td>NaN</td>\n",
       "      <td>NaN</td>\n",
       "      <td>NaN</td>\n",
       "      <td>NaN</td>\n",
       "      <td>NaN</td>\n",
       "      <td>48.00</td>\n",
       "      <td>60.0</td>\n",
       "      <td>0.8000</td>\n",
       "      <td>NaN</td>\n",
       "      <td>NaN</td>\n",
       "    </tr>\n",
       "    <tr>\n",
       "      <th>729</th>\n",
       "      <td>NaN</td>\n",
       "      <td>NaN</td>\n",
       "      <td>NaN</td>\n",
       "      <td>NaN</td>\n",
       "      <td>NaN</td>\n",
       "      <td>NaN</td>\n",
       "      <td>NaN</td>\n",
       "      <td>NaN</td>\n",
       "      <td>NaN</td>\n",
       "      <td>92.75</td>\n",
       "      <td>105.0</td>\n",
       "      <td>0.8833</td>\n",
       "      <td>NaN</td>\n",
       "      <td>NaN</td>\n",
       "    </tr>\n",
       "    <tr>\n",
       "      <th>730</th>\n",
       "      <td>NaN</td>\n",
       "      <td>NaN</td>\n",
       "      <td>NaN</td>\n",
       "      <td>NaN</td>\n",
       "      <td>NaN</td>\n",
       "      <td>NaN</td>\n",
       "      <td>NaN</td>\n",
       "      <td>NaN</td>\n",
       "      <td>NaN</td>\n",
       "      <td>31.50</td>\n",
       "      <td>45.5</td>\n",
       "      <td>0.6923</td>\n",
       "      <td>NaN</td>\n",
       "      <td>NaN</td>\n",
       "    </tr>\n",
       "    <tr>\n",
       "      <th>731</th>\n",
       "      <td>NaN</td>\n",
       "      <td>NaN</td>\n",
       "      <td>NaN</td>\n",
       "      <td>NaN</td>\n",
       "      <td>NaN</td>\n",
       "      <td>NaN</td>\n",
       "      <td>NaN</td>\n",
       "      <td>NaN</td>\n",
       "      <td>NaN</td>\n",
       "      <td>84.75</td>\n",
       "      <td>150.0</td>\n",
       "      <td>0.5650</td>\n",
       "      <td>NaN</td>\n",
       "      <td>NaN</td>\n",
       "    </tr>\n",
       "  </tbody>\n",
       "</table>\n",
       "</div>"
      ],
      "text/plain": [
       "     id program grad_date hs_ged hs_ged_grad_date previous_college  \\\n",
       "727 NaN     NaN       NaN    NaN              NaN              NaN   \n",
       "728 NaN     NaN       NaN    NaN              NaN              NaN   \n",
       "729 NaN     NaN       NaN    NaN              NaN              NaN   \n",
       "730 NaN     NaN       NaN    NaN              NaN              NaN   \n",
       "731 NaN     NaN       NaN    NaN              NaN              NaN   \n",
       "\n",
       "    ethnic_description gender  gpa  hours_attended  hours_scheduled  \\\n",
       "727                NaN    NaN  NaN           95.75            138.0   \n",
       "728                NaN    NaN  NaN           48.00             60.0   \n",
       "729                NaN    NaN  NaN           92.75            105.0   \n",
       "730                NaN    NaN  NaN           31.50             45.5   \n",
       "731                NaN    NaN  NaN           84.75            150.0   \n",
       "\n",
       "     attendance_percentage date_of_birth default_status  \n",
       "727                 0.6938           NaN            NaN  \n",
       "728                 0.8000           NaN            NaN  \n",
       "729                 0.8833           NaN            NaN  \n",
       "730                 0.6923           NaN            NaN  \n",
       "731                 0.5650           NaN            NaN  "
      ]
     },
<<<<<<< HEAD
     "execution_count": 6,
=======
     "execution_count": 4,
>>>>>>> 4ebf13fe14fc4250577c2dfff76e95595ef488a2
     "metadata": {},
     "output_type": "execute_result"
    }
   ],
   "source": [
    "df.tail()"
   ]
  },
  {
   "cell_type": "code",
<<<<<<< HEAD
   "execution_count": 7,
=======
   "execution_count": 5,
>>>>>>> 4ebf13fe14fc4250577c2dfff76e95595ef488a2
   "id": "ef9ad836",
   "metadata": {},
   "outputs": [],
   "source": [
    "df = df.dropna()"
   ]
  },
  {
   "cell_type": "code",
<<<<<<< HEAD
   "execution_count": 8,
=======
   "execution_count": 6,
>>>>>>> 4ebf13fe14fc4250577c2dfff76e95595ef488a2
   "id": "d2085cdc",
   "metadata": {},
   "outputs": [
    {
     "data": {
      "text/plain": [
       "id                       0\n",
       "program                  0\n",
       "grad_date                0\n",
       "hs_ged                   0\n",
       "hs_ged_grad_date         0\n",
       "previous_college         0\n",
       "ethnic_description       0\n",
       "gender                   0\n",
       "gpa                      0\n",
       "hours_attended           0\n",
       "hours_scheduled          0\n",
       "attendance_percentage    0\n",
       "date_of_birth            0\n",
       "default_status           0\n",
       "dtype: int64"
      ]
     },
<<<<<<< HEAD
     "execution_count": 8,
=======
     "execution_count": 6,
>>>>>>> 4ebf13fe14fc4250577c2dfff76e95595ef488a2
     "metadata": {},
     "output_type": "execute_result"
    }
   ],
   "source": [
    "df.isnull().sum()"
   ]
  },
  {
   "cell_type": "code",
<<<<<<< HEAD
   "execution_count": 9,
=======
   "execution_count": 7,
>>>>>>> 4ebf13fe14fc4250577c2dfff76e95595ef488a2
   "id": "22bb63ec",
   "metadata": {},
   "outputs": [
    {
     "data": {
      "text/plain": [
       "(411, 14)"
      ]
     },
<<<<<<< HEAD
     "execution_count": 9,
=======
     "execution_count": 7,
>>>>>>> 4ebf13fe14fc4250577c2dfff76e95595ef488a2
     "metadata": {},
     "output_type": "execute_result"
    }
   ],
   "source": [
    "df.shape"
   ]
  },
  {
   "cell_type": "code",
<<<<<<< HEAD
   "execution_count": 10,
=======
   "execution_count": 8,
>>>>>>> 4ebf13fe14fc4250577c2dfff76e95595ef488a2
   "id": "7f2250ca",
   "metadata": {},
   "outputs": [
    {
     "data": {
      "text/plain": [
       "id                       float64\n",
       "program                   object\n",
       "grad_date                 object\n",
       "hs_ged                    object\n",
       "hs_ged_grad_date          object\n",
       "previous_college          object\n",
       "ethnic_description        object\n",
       "gender                    object\n",
       "gpa                      float64\n",
       "hours_attended           float64\n",
       "hours_scheduled          float64\n",
       "attendance_percentage    float64\n",
       "date_of_birth             object\n",
       "default_status            object\n",
       "dtype: object"
      ]
     },
<<<<<<< HEAD
     "execution_count": 10,
=======
     "execution_count": 8,
>>>>>>> 4ebf13fe14fc4250577c2dfff76e95595ef488a2
     "metadata": {},
     "output_type": "execute_result"
    }
   ],
   "source": [
    "df.dtypes"
   ]
  },
  {
   "cell_type": "code",
<<<<<<< HEAD
   "execution_count": 11,
=======
   "execution_count": 9,
>>>>>>> 4ebf13fe14fc4250577c2dfff76e95595ef488a2
   "id": "bf06a050",
   "metadata": {},
   "outputs": [],
   "source": [
    "from sklearn.preprocessing import LabelEncoder\n",
    "le = LabelEncoder()\n",
    "df2 = df.copy()\n",
    "df2[\"gender\"] = le.fit_transform(df2[\"gender\"])\n",
    "df2[\"program\"] = le.fit_transform(df2[\"program\"])\n",
    "df2[\"hs_ged\"] = le.fit_transform(df2[\"hs_ged\"])\n",
    "df2[\"ethnic_description\"] = le.fit_transform(df2[\"ethnic_description\"])\n",
    "df2[\"previous_college\"] = le.fit_transform(df2[\"previous_college\"])\n",
    "df2[\"default_status\"] = le.fit_transform(df2[\"default_status\"])"
   ]
  },
  {
   "cell_type": "code",
<<<<<<< HEAD
   "execution_count": 12,
=======
   "execution_count": 10,
>>>>>>> 4ebf13fe14fc4250577c2dfff76e95595ef488a2
   "id": "5c48e4cc",
   "metadata": {},
   "outputs": [],
   "source": [
    "df2[\"grad_date\"]= pd.to_datetime(df2[\"grad_date\"])\n",
    "df2[\"hs_ged_grad_date\"]= pd.to_datetime(df2[\"hs_ged_grad_date\"])\n",
    "df2[\"date_of_birth\"]= pd.to_datetime(df2[\"date_of_birth\"])"
   ]
  },
  {
   "cell_type": "code",
<<<<<<< HEAD
   "execution_count": 13,
=======
   "execution_count": 11,
>>>>>>> 4ebf13fe14fc4250577c2dfff76e95595ef488a2
   "id": "0ed3c6b7",
   "metadata": {
    "scrolled": true
   },
   "outputs": [
    {
     "data": {
      "text/plain": [
       "id                              float64\n",
       "program                           int32\n",
       "grad_date                datetime64[ns]\n",
       "hs_ged                            int32\n",
       "hs_ged_grad_date         datetime64[ns]\n",
       "previous_college                  int32\n",
       "ethnic_description                int32\n",
       "gender                            int32\n",
       "gpa                             float64\n",
       "hours_attended                  float64\n",
       "hours_scheduled                 float64\n",
       "attendance_percentage           float64\n",
       "date_of_birth            datetime64[ns]\n",
       "default_status                    int32\n",
       "dtype: object"
      ]
     },
<<<<<<< HEAD
     "execution_count": 13,
=======
     "execution_count": 11,
>>>>>>> 4ebf13fe14fc4250577c2dfff76e95595ef488a2
     "metadata": {},
     "output_type": "execute_result"
    }
   ],
   "source": [
    "df2.dtypes"
   ]
  },
  {
   "cell_type": "code",
<<<<<<< HEAD
   "execution_count": 14,
=======
   "execution_count": 12,
>>>>>>> 4ebf13fe14fc4250577c2dfff76e95595ef488a2
   "id": "201ce50b",
   "metadata": {},
   "outputs": [
    {
     "data": {
      "text/html": [
       "<div>\n",
       "<style scoped>\n",
       "    .dataframe tbody tr th:only-of-type {\n",
       "        vertical-align: middle;\n",
       "    }\n",
       "\n",
       "    .dataframe tbody tr th {\n",
       "        vertical-align: top;\n",
       "    }\n",
       "\n",
       "    .dataframe thead th {\n",
       "        text-align: right;\n",
       "    }\n",
       "</style>\n",
       "<table border=\"1\" class=\"dataframe\">\n",
       "  <thead>\n",
       "    <tr style=\"text-align: right;\">\n",
       "      <th></th>\n",
       "      <th>id</th>\n",
       "      <th>program</th>\n",
       "      <th>hs_ged</th>\n",
       "      <th>previous_college</th>\n",
       "      <th>ethnic_description</th>\n",
       "      <th>gender</th>\n",
       "      <th>gpa</th>\n",
       "      <th>hours_attended</th>\n",
       "      <th>hours_scheduled</th>\n",
       "      <th>attendance_percentage</th>\n",
       "      <th>default_status</th>\n",
       "    </tr>\n",
       "  </thead>\n",
       "  <tbody>\n",
       "    <tr>\n",
       "      <th>count</th>\n",
       "      <td>411.000000</td>\n",
       "      <td>411.000000</td>\n",
       "      <td>411.000000</td>\n",
       "      <td>411.000000</td>\n",
       "      <td>411.000000</td>\n",
       "      <td>411.000000</td>\n",
       "      <td>411.000000</td>\n",
       "      <td>411.000000</td>\n",
       "      <td>411.000000</td>\n",
       "      <td>411.000000</td>\n",
       "      <td>411.000000</td>\n",
       "    </tr>\n",
       "    <tr>\n",
       "      <th>mean</th>\n",
       "      <td>10685.367397</td>\n",
       "      <td>0.472019</td>\n",
       "      <td>1.858881</td>\n",
       "      <td>0.776156</td>\n",
       "      <td>3.773723</td>\n",
       "      <td>0.661800</td>\n",
       "      <td>88.699927</td>\n",
       "      <td>357.653285</td>\n",
       "      <td>387.671533</td>\n",
       "      <td>0.931755</td>\n",
       "      <td>0.177616</td>\n",
       "    </tr>\n",
       "    <tr>\n",
       "      <th>std</th>\n",
       "      <td>215.863843</td>\n",
       "      <td>0.499825</td>\n",
       "      <td>0.362293</td>\n",
       "      <td>0.417327</td>\n",
       "      <td>2.082421</td>\n",
       "      <td>0.473673</td>\n",
       "      <td>7.729065</td>\n",
       "      <td>205.676681</td>\n",
       "      <td>224.842900</td>\n",
       "      <td>0.058923</td>\n",
       "      <td>0.382655</td>\n",
       "    </tr>\n",
       "    <tr>\n",
       "      <th>min</th>\n",
       "      <td>10302.000000</td>\n",
       "      <td>0.000000</td>\n",
       "      <td>0.000000</td>\n",
       "      <td>0.000000</td>\n",
       "      <td>0.000000</td>\n",
       "      <td>0.000000</td>\n",
       "      <td>36.000000</td>\n",
       "      <td>120.000000</td>\n",
       "      <td>138.500000</td>\n",
       "      <td>0.786300</td>\n",
       "      <td>0.000000</td>\n",
       "    </tr>\n",
       "    <tr>\n",
       "      <th>25%</th>\n",
       "      <td>10519.500000</td>\n",
       "      <td>0.000000</td>\n",
       "      <td>2.000000</td>\n",
       "      <td>1.000000</td>\n",
       "      <td>2.000000</td>\n",
       "      <td>0.000000</td>\n",
       "      <td>84.500000</td>\n",
       "      <td>144.750000</td>\n",
       "      <td>150.000000</td>\n",
       "      <td>0.892900</td>\n",
       "      <td>0.000000</td>\n",
       "    </tr>\n",
       "    <tr>\n",
       "      <th>50%</th>\n",
       "      <td>10644.000000</td>\n",
       "      <td>0.000000</td>\n",
       "      <td>2.000000</td>\n",
       "      <td>1.000000</td>\n",
       "      <td>3.000000</td>\n",
       "      <td>1.000000</td>\n",
       "      <td>90.000000</td>\n",
       "      <td>482.000000</td>\n",
       "      <td>600.000000</td>\n",
       "      <td>0.946700</td>\n",
       "      <td>0.000000</td>\n",
       "    </tr>\n",
       "    <tr>\n",
       "      <th>75%</th>\n",
       "      <td>10829.000000</td>\n",
       "      <td>1.000000</td>\n",
       "      <td>2.000000</td>\n",
       "      <td>1.000000</td>\n",
       "      <td>6.000000</td>\n",
       "      <td>1.000000</td>\n",
       "      <td>94.000000</td>\n",
       "      <td>561.500000</td>\n",
       "      <td>600.000000</td>\n",
       "      <td>0.979150</td>\n",
       "      <td>0.000000</td>\n",
       "    </tr>\n",
       "    <tr>\n",
       "      <th>max</th>\n",
       "      <td>11194.000000</td>\n",
       "      <td>1.000000</td>\n",
       "      <td>2.000000</td>\n",
       "      <td>1.000000</td>\n",
       "      <td>7.000000</td>\n",
       "      <td>1.000000</td>\n",
       "      <td>99.000000</td>\n",
       "      <td>600.000000</td>\n",
       "      <td>600.000000</td>\n",
       "      <td>1.000000</td>\n",
       "      <td>1.000000</td>\n",
       "    </tr>\n",
       "  </tbody>\n",
       "</table>\n",
       "</div>"
      ],
      "text/plain": [
       "                 id     program      hs_ged  previous_college  \\\n",
       "count    411.000000  411.000000  411.000000        411.000000   \n",
       "mean   10685.367397    0.472019    1.858881          0.776156   \n",
       "std      215.863843    0.499825    0.362293          0.417327   \n",
       "min    10302.000000    0.000000    0.000000          0.000000   \n",
       "25%    10519.500000    0.000000    2.000000          1.000000   \n",
       "50%    10644.000000    0.000000    2.000000          1.000000   \n",
       "75%    10829.000000    1.000000    2.000000          1.000000   \n",
       "max    11194.000000    1.000000    2.000000          1.000000   \n",
       "\n",
       "       ethnic_description      gender         gpa  hours_attended  \\\n",
       "count          411.000000  411.000000  411.000000      411.000000   \n",
       "mean             3.773723    0.661800   88.699927      357.653285   \n",
       "std              2.082421    0.473673    7.729065      205.676681   \n",
       "min              0.000000    0.000000   36.000000      120.000000   \n",
       "25%              2.000000    0.000000   84.500000      144.750000   \n",
       "50%              3.000000    1.000000   90.000000      482.000000   \n",
       "75%              6.000000    1.000000   94.000000      561.500000   \n",
       "max              7.000000    1.000000   99.000000      600.000000   \n",
       "\n",
       "       hours_scheduled  attendance_percentage  default_status  \n",
       "count       411.000000             411.000000      411.000000  \n",
       "mean        387.671533               0.931755        0.177616  \n",
       "std         224.842900               0.058923        0.382655  \n",
       "min         138.500000               0.786300        0.000000  \n",
       "25%         150.000000               0.892900        0.000000  \n",
       "50%         600.000000               0.946700        0.000000  \n",
       "75%         600.000000               0.979150        0.000000  \n",
       "max         600.000000               1.000000        1.000000  "
      ]
     },
<<<<<<< HEAD
     "execution_count": 14,
=======
     "execution_count": 12,
>>>>>>> 4ebf13fe14fc4250577c2dfff76e95595ef488a2
     "metadata": {},
     "output_type": "execute_result"
    }
   ],
   "source": [
    "df2.describe()"
   ]
  },
  {
   "cell_type": "code",
<<<<<<< HEAD
   "execution_count": 15,
=======
   "execution_count": 13,
>>>>>>> 4ebf13fe14fc4250577c2dfff76e95595ef488a2
   "id": "b38a683f",
   "metadata": {},
   "outputs": [],
   "source": [
    "df2.to_csv(\"cleaned_data.csv\")"
   ]
<<<<<<< HEAD
  },
  {
   "cell_type": "code",
   "execution_count": null,
   "id": "71913ba7",
   "metadata": {},
   "outputs": [],
   "source": []
=======
>>>>>>> 4ebf13fe14fc4250577c2dfff76e95595ef488a2
  }
 ],
 "metadata": {
  "kernelspec": {
   "display_name": "mlenv",
   "language": "python",
   "name": "mlenv"
  },
  "language_info": {
   "codemirror_mode": {
    "name": "ipython",
    "version": 3
   },
   "file_extension": ".py",
   "mimetype": "text/x-python",
   "name": "python",
   "nbconvert_exporter": "python",
   "pygments_lexer": "ipython3",
   "version": "3.7.11"
  }
 },
 "nbformat": 4,
 "nbformat_minor": 5
}
